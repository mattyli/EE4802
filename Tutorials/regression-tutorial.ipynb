{
 "cells": [
  {
   "attachments": {},
   "cell_type": "markdown",
   "metadata": {},
   "source": [
    "Q1: \n",
    "\n",
    "If the MSE of A < B, we can say that A has a lower SE overall and thus will have a higher R^2 score. Formula is given by $$1-(RSS)/(TSS)$$\n",
    "\n",
    "Where RSS is dependent on SE."
   ]
  },
  {
   "cell_type": "markdown",
   "metadata": {},
   "source": []
  }
 ],
 "metadata": {
  "language_info": {
   "name": "python"
  },
  "orig_nbformat": 4
 },
 "nbformat": 4,
 "nbformat_minor": 2
}
