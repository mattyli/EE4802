{
 "cells": [
  {
   "attachments": {},
   "cell_type": "markdown",
   "metadata": {},
   "source": [
    "# Regression\n",
    "\n",
    "## What is it?\n",
    "\n",
    "At it's core, regression is a form of supervised machine learning. That is we need to provide a regression model label in order for it to make predictions. In the case of regression, we are predicting a continuous number. So this could be a stock or food price, a persons weight or GPA, something along those lines."
   ]
  },
  {
   "attachments": {},
   "cell_type": "markdown",
   "metadata": {},
   "source": [
    "### Linear Regression\n",
    "\n",
    "Perhaps the most intuitive form of regression, a linear regression model takes the form of an equation of a line. That is: $$ Y = Ax + B $$ where A,B are both constants.\n",
    "\n",
    "Using the sci-kit learn library we can use the linear regression class to create a predictor object, fit it to the data and then use it to generate predictions off that data."
   ]
  },
  {
   "cell_type": "code",
   "execution_count": 1,
   "metadata": {},
   "outputs": [],
   "source": [
    "from sklearn.linear_model import LinearRegression\n",
    "pred = LinearRegression()"
   ]
  },
  {
   "attachments": {},
   "cell_type": "markdown",
   "metadata": {},
   "source": [
    "Creating the sample dataset"
   ]
  },
  {
   "cell_type": "code",
   "execution_count": 2,
   "metadata": {},
   "outputs": [
    {
     "data": {
      "text/plain": [
       "<matplotlib.collections.PathCollection at 0x1aa45856e30>"
      ]
     },
     "execution_count": 2,
     "metadata": {},
     "output_type": "execute_result"
    },
    {
     "data": {
      "image/png": "[encoded data removed]",
      "text/plain": [
       "<Figure size 432x288 with 1 Axes>"
      ]
     },
     "metadata": {
      "needs_background": "light"
     },
     "output_type": "display_data"
    }
   ],
   "source": [
    "import numpy as np \n",
    "X = np.array([[1.52],[1.60],[1.68],[1.75],[1.80]]) \n",
    "y = np.array([57.48,56.57,66.11,65.10,70.19]) \n",
    " \n",
    "import matplotlib.pyplot as plt \n",
    "plt.scatter(X,y) "
   ]
  },
  {
   "cell_type": "code",
   "execution_count": 3,
   "metadata": {},
   "outputs": [
    {
     "name": "stdout",
     "output_type": "stream",
     "text": [
      "Intercept:  -16.198838582677162\n",
      "Coefficient:  [47.47834646]\n"
     ]
    }
   ],
   "source": [
    "pred = pred.fit(X,y)\n",
    "print(\"Intercept: \", pred.intercept_)\n",
    "print(\"Coefficient: \", pred.coef_)"
   ]
  },
  {
   "cell_type": "code",
   "execution_count": 5,
   "metadata": {},
   "outputs": [
    {
     "name": "stdout",
     "output_type": "stream",
     "text": [
      "estimated for 1.65m individual [62.14043307]\n"
     ]
    }
   ],
   "source": [
    "estimated = pred.predict([[1.65]])\n",
    "print(\"estimated for 1.65m individual\", estimated)"
   ]
  },
  {
   "attachments": {},
   "cell_type": "markdown",
   "metadata": {},
   "source": [
    "Determining the Squared Error (SE):"
   ]
  },
  {
   "cell_type": "code",
   "execution_count": 9,
   "metadata": {},
   "outputs": [
    {
     "name": "stdout",
     "output_type": "stream",
     "text": [
      "estimated for the 5 heights:  [55.96824803 59.76651575 63.56478346 66.88826772 69.26218504]\n"
     ]
    }
   ],
   "source": [
    "preds = pred.predict(X)\n",
    "print(\"estimated for the 5 heights: \", preds)"
   ]
  },
  {
   "cell_type": "code",
   "execution_count": 10,
   "metadata": {},
   "outputs": [
    {
     "data": {
      "text/plain": [
       "(5,)"
      ]
     },
     "execution_count": 10,
     "metadata": {},
     "output_type": "execute_result"
    }
   ],
   "source": [
    "preds.shape"
   ]
  },
  {
   "cell_type": "code",
   "execution_count": 12,
   "metadata": {},
   "outputs": [
    {
     "name": "stdout",
     "output_type": "stream",
     "text": [
      "4.6079952362204875\n"
     ]
    }
   ],
   "source": [
    "from sklearn.metrics import mean_squared_error as MSE\n",
    "mse = MSE(y, preds)\n",
    "print(mse)"
   ]
  }
 ],
 "metadata": {
  "kernelspec": {
   "display_name": "Python 3",
   "language": "python",
   "name": "python3"
  },
  "language_info": {
   "codemirror_mode": {
    "name": "ipython",
    "version": 3
   },
   "file_extension": ".py",
   "mimetype": "text/x-python",
   "name": "python",
   "nbconvert_exporter": "python",
   "pygments_lexer": "ipython3",
   "version": "3.10.10"
  },
  "orig_nbformat": 4,
  "vscode": {
   "interpreter": {
    "hash": "2c43db2c2862a4fb74eb30a5dd42a1a7d13bd278472af02749b6309fef51ecb8"
   }
  }
 },
 "nbformat": 4,
 "nbformat_minor": 2
}
